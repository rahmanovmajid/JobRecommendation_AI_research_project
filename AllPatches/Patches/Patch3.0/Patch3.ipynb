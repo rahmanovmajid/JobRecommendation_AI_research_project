{
  "nbformat": 4,
  "nbformat_minor": 0,
  "metadata": {
    "colab": {
      "provenance": []
    },
    "kernelspec": {
      "name": "python3",
      "display_name": "Python 3"
    },
    "language_info": {
      "name": "python"
    }
  },
  "cells": [
    {
      "cell_type": "code",
      "execution_count": 3,
      "metadata": {
        "colab": {
          "base_uri": "https://localhost:8080/"
        },
        "id": "9QXy4xoI09Bt",
        "outputId": "0685c83c-5652-48a6-9374-d73c4b85e37c"
      },
      "outputs": [
        {
          "output_type": "stream",
          "name": "stdout",
          "text": [
            "Looking in indexes: https://pypi.org/simple, https://us-python.pkg.dev/colab-wheels/public/simple/\n",
            "Requirement already satisfied: PyPDF2 in /usr/local/lib/python3.9/dist-packages (3.0.1)\n",
            "Requirement already satisfied: typing_extensions>=3.10.0.0 in /usr/local/lib/python3.9/dist-packages (from PyPDF2) (4.5.0)\n",
            "55 792 58  03 PERCENT\n",
            "Baku GPE\n",
            "Azerbaijan GPE\n",
            "Fullstack PERSON\n",
            "Medi PERSON\n",
            "Fullstack Development ORG\n",
            "Git & GitHub ORG\n",
            "2020 DATE\n",
            "Coordinator of Year WORK_OF_ART\n",
            "the Ministry of \n",
            "Science and Education ORG\n",
            "2022 - 2024 DATE\n",
            "AZERBAIJAN FRENCH UNIVERSITY ORG\n",
            "Data  Science  & Artificial \n",
            "Intelligence ORG\n",
            "English NORP\n",
            "2018 - 2022 DATE\n",
            "Bachelor ORG\n",
            "Computer Science FAC\n",
            "English NORP\n",
            "INTERNSHIP - FULLSTAC K DEVELOPER  \n",
            "Cubics Technology ORG\n",
            "2022 DATE\n",
            "2020 DATE\n",
            "ERP ORG\n",
            "ASAN Call Center FAC\n",
            "GitHub ORG\n",
            "CSS ORG\n",
            "JavaScript \n",
            "jQuery  \n",
            "Bootstrap PRODUCT\n",
            "MVC ORG\n",
            "Microsoft ORG\n",
            "SQL Server ORG\n"
          ]
        }
      ],
      "source": [
        "import spacy\n",
        "!pip install PyPDF2\n",
        "import PyPDF2\n",
        "\n",
        "# Load the Spacy model\n",
        "nlp = spacy.load(\"en_core_web_sm\")\n",
        "\n",
        "# Open the PDF file\n",
        "cv_file = open('/content/IbrahimAliyev.pdf', 'rb')\n",
        "\n",
        "# Create a PDF reader object\n",
        "pdf_reader = PyPDF2.PdfReader(cv_file)\n",
        "\n",
        "# Extract the text from all pages of the PDF file\n",
        "cv_text = ''\n",
        "for page in pdf_reader.pages:\n",
        "    cv_text += page.extract_text()\n",
        "\n",
        "# Close the file object\n",
        "cv_file.close()\n",
        "\n",
        "# Process the resume text with Spacy\n",
        "doc = nlp(cv_text)\n",
        "\n",
        "# Extract named entities from the resume\n",
        "for entity in doc.ents:\n",
        "    print(entity.text, entity.label_)\n"
      ]
    }
  ]
}