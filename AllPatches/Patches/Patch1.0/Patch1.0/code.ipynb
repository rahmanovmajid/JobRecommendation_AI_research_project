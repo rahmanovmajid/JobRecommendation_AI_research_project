{
  "nbformat": 4,
  "nbformat_minor": 0,
  "metadata": {
    "colab": {
      "provenance": []
    },
    "kernelspec": {
      "name": "python3",
      "display_name": "Python 3"
    },
    "language_info": {
      "name": "python"
    }
  },
  "cells": [
    {
      "cell_type": "code",
      "execution_count": 16,
      "metadata": {
        "id": "LIoj4xztujxb"
      },
      "outputs": [],
      "source": [
        "import numpy as np\n",
        "import pandas as pd"
      ]
    },
    {
      "cell_type": "code",
      "source": [
        "pip install PyPDF2"
      ],
      "metadata": {
        "colab": {
          "base_uri": "https://localhost:8080/"
        },
        "id": "TIrvVMdDurMt",
        "outputId": "1b86139b-e29b-45f8-e4bd-cfdb1ee108e1"
      },
      "execution_count": 17,
      "outputs": [
        {
          "output_type": "stream",
          "name": "stdout",
          "text": [
            "Looking in indexes: https://pypi.org/simple, https://us-python.pkg.dev/colab-wheels/public/simple/\n",
            "Requirement already satisfied: PyPDF2 in /usr/local/lib/python3.9/dist-packages (3.0.1)\n",
            "Requirement already satisfied: typing_extensions>=3.10.0.0 in /usr/local/lib/python3.9/dist-packages (from PyPDF2) (4.5.0)\n"
          ]
        }
      ]
    },
    {
      "cell_type": "code",
      "source": [
        "pip install pdfplumber"
      ],
      "metadata": {
        "colab": {
          "base_uri": "https://localhost:8080/"
        },
        "id": "CC0wIyF5vHZJ",
        "outputId": "ea659602-ec79-45c9-daa3-e35e117304fa"
      },
      "execution_count": 18,
      "outputs": [
        {
          "output_type": "stream",
          "name": "stdout",
          "text": [
            "Looking in indexes: https://pypi.org/simple, https://us-python.pkg.dev/colab-wheels/public/simple/\n",
            "Requirement already satisfied: pdfplumber in /usr/local/lib/python3.9/dist-packages (0.9.0)\n",
            "Requirement already satisfied: pdfminer.six==20221105 in /usr/local/lib/python3.9/dist-packages (from pdfplumber) (20221105)\n",
            "Requirement already satisfied: Wand>=0.6.10 in /usr/local/lib/python3.9/dist-packages (from pdfplumber) (0.6.11)\n",
            "Requirement already satisfied: Pillow>=9.1 in /usr/local/lib/python3.9/dist-packages (from pdfplumber) (9.5.0)\n",
            "Requirement already satisfied: charset-normalizer>=2.0.0 in /usr/local/lib/python3.9/dist-packages (from pdfminer.six==20221105->pdfplumber) (2.0.12)\n",
            "Requirement already satisfied: cryptography>=36.0.0 in /usr/local/lib/python3.9/dist-packages (from pdfminer.six==20221105->pdfplumber) (40.0.1)\n",
            "Requirement already satisfied: cffi>=1.12 in /usr/local/lib/python3.9/dist-packages (from cryptography>=36.0.0->pdfminer.six==20221105->pdfplumber) (1.15.1)\n",
            "Requirement already satisfied: pycparser in /usr/local/lib/python3.9/dist-packages (from cffi>=1.12->cryptography>=36.0.0->pdfminer.six==20221105->pdfplumber) (2.21)\n"
          ]
        }
      ]
    },
    {
      "cell_type": "code",
      "source": [
        "import PyPDF2, pdfplumber"
      ],
      "metadata": {
        "id": "as5H8AJGvIhc"
      },
      "execution_count": 19,
      "outputs": []
    },
    {
      "cell_type": "code",
      "source": [
        "CV=\"/content/Ibrahim_Aliyev.pdf\"\n",
        "Req=\"/content/CSharpJob.pdf\"\n",
        "\n"
      ],
      "metadata": {
        "id": "o-RlrHxNvecv"
      },
      "execution_count": 20,
      "outputs": []
    },
    {
      "cell_type": "code",
      "source": [
        "CV_File=open(CV,'rb')\n",
        "Script=PyPDF2.PdfReader(CV_File)\n",
        "pages=len(Script.pages)"
      ],
      "metadata": {
        "id": "AH9FL8JzxP8v"
      },
      "execution_count": 21,
      "outputs": []
    },
    {
      "cell_type": "code",
      "source": [
        "Script = []\n",
        "with pdfplumber.open(CV_File) as pdf:\n",
        "    for i in range (0,pages):\n",
        "        page=pdf.pages[i]\n",
        "        text=page.extract_text()\n",
        "        print (text)\n",
        "        Script.append(text)"
      ],
      "metadata": {
        "colab": {
          "base_uri": "https://localhost:8080/"
        },
        "id": "sd2kCGBpylpG",
        "outputId": "0f0ad353-62a0-4c24-ef1c-a1635c9c3622"
      },
      "execution_count": 22,
      "outputs": [
        {
          "output_type": "stream",
          "name": "stdout",
          "text": [
            "IBRAHIM ALIYEV\n",
            "FULLSTACK\n",
            "WEB DEVELOPMENT\n",
            "+994 55 792 58 03 ibrahimaliyevv2@gmail.com Baku, Azerbaijan\n",
            "S U M M A R Y E D U C A T I O N\n",
            "Aspiring to be Fullstack developer. I am eager to learn and can\n",
            "2022 - 2024\n",
            "adapt to different environments. Writing articles on Medium\n",
            "AZERBAIJAN FRENCH UNIVERSITY\n",
            "platform related to Fullstack Development including Git & GitHub.\n",
            "Master's degree in Data Science & Artificial\n",
            "In 2020, I won an award \"Coordinator of Year\" by the Ministry of Intelligence (English group)\n",
            "Science and Education for my social activism. 2018 - 2022\n",
            "BAKU STATE UNIVERSITY\n",
            "Bachelor's degree in Computer Science\n",
            "(English group)\n",
            "E X P E R I E N C E\n",
            "INTERNSHIP - FULLSTACK DEVELOPER\n",
            "S K I L L S\n",
            "Cubics Technology\n",
            "2022 HTML\n",
            "CSS\n",
            "Writing code for given tasks\n",
            "JavaScript\n",
            "Solving problems jQuery\n",
            "Website designing Bootstrap, Responsive\n",
            "SASS/SCSS\n",
            "Preparing pseudocode for algorithms\n",
            "React\n",
            "ASP .NET CORE\n",
            ".NET MVC\n",
            "CALL CENTER OPERATOR .NET WEB API\n",
            "Entity framework\n",
            "ASAN Call Center - 108\n",
            "Microsoft SQL Server\n",
            "2020\n",
            "P O R T F O L I O\n",
            "Answering the calls from citizens in ERP app\n",
            "ibrahimaliyevv2.github.io\n",
            "Informing citizens about ASAN mobile app\n",
            "Teaching volunteers the system in ASAN Call Center\n",
            "linkedin.com/in/ibrahimaliyevv2\n",
            "I M P O R T A N T N O T E\n",
            "github.com/ibrahimaliyevv2\n",
            "All my projects, live demos and GitHub repository links are\n",
            "located in my portfolio website which is located on the right.\n",
            "medium.com/@ibrahimaliyevv\n",
            "Also, you can view my articles on Medium in that section.\n"
          ]
        }
      ]
    },
    {
      "cell_type": "code",
      "source": [
        "Script=''.join(Script)\n",
        "CV_Clear=Script.replace(\"\\n\",\"\")\n",
        "CV_Clear"
      ],
      "metadata": {
        "colab": {
          "base_uri": "https://localhost:8080/",
          "height": 140
        },
        "id": "lIdIOF3-yrv7",
        "outputId": "6779bde0-0d11-46f1-987a-c7a0f6141990"
      },
      "execution_count": 23,
      "outputs": [
        {
          "output_type": "execute_result",
          "data": {
            "text/plain": [
              "'IBRAHIM ALIYEVFULLSTACKWEB DEVELOPMENT+994 55 792 58 03 ibrahimaliyevv2@gmail.com Baku, AzerbaijanS U M M A R Y E D U C A T I O NAspiring to be Fullstack developer. I am eager to learn and can2022 - 2024adapt to different environments. Writing articles on MediumAZERBAIJAN FRENCH UNIVERSITYplatform related to Fullstack Development including Git & GitHub.Master\\'s degree in Data Science & ArtificialIn 2020, I won an award \"Coordinator of Year\" by the Ministry of Intelligence (English group)Science and Education for my social activism. 2018 - 2022BAKU STATE UNIVERSITYBachelor\\'s degree in Computer Science(English group)E X P E R I E N C EINTERNSHIP - FULLSTACK DEVELOPERS K I L L SCubics Technology2022 HTMLCSSWriting code for given tasksJavaScriptSolving problems jQueryWebsite designing Bootstrap, ResponsiveSASS/SCSSPreparing pseudocode for algorithmsReactASP .NET CORE.NET MVCCALL CENTER OPERATOR .NET WEB APIEntity frameworkASAN Call Center - 108Microsoft SQL Server2020P O R T F O L I OAnswering the calls from citizens in ERP appibrahimaliyevv2.github.ioInforming citizens about ASAN mobile appTeaching volunteers the system in ASAN Call Centerlinkedin.com/in/ibrahimaliyevv2I M P O R T A N T N O T Egithub.com/ibrahimaliyevv2All my projects, live demos and GitHub repository links arelocated in my portfolio website which is located on the right.medium.com/@ibrahimaliyevvAlso, you can view my articles on Medium in that section.'"
            ],
            "application/vnd.google.colaboratory.intrinsic+json": {
              "type": "string"
            }
          },
          "metadata": {},
          "execution_count": 23
        }
      ]
    },
    {
      "cell_type": "code",
      "source": [
        "Req_File=open(Req,'rb')\n",
        "Script=PyPDF2.PdfReader(Req_File)\n",
        "pages=len(Script.pages)"
      ],
      "metadata": {
        "id": "bKag6kxEyv_-"
      },
      "execution_count": 26,
      "outputs": []
    },
    {
      "cell_type": "code",
      "source": [
        "Script_Req = []\n",
        "with pdfplumber.open(Req_File) as pdf:\n",
        "    for i in range (0,pages):\n",
        "        page=pdf.pages[i]\n",
        "        text=page.extract_text()\n",
        "        print (text)\n",
        "        Script_Req.append(text)"
      ],
      "metadata": {
        "colab": {
          "base_uri": "https://localhost:8080/"
        },
        "id": "XMdRQJmTy-Ql",
        "outputId": "93306460-0765-467c-dba2-8d0ee6d67aeb"
      },
      "execution_count": 27,
      "outputs": [
        {
          "output_type": "stream",
          "name": "stdout",
          "text": [
            "3081752 Job title: C# Programmer\n",
            "Page 1 of 2 Reports to: Lead Applications Developer\n",
            "Hours agreed: 35 per week\n",
            "Location: London\n",
            "Salary: Up to £\n",
            "1. Job purpose:\n",
            "To undertake coding and systems maintenance tasks in support of LCP’s in-house\n",
            "developed systems, specifically for the Pensions Administration department.\n",
            " Investigate and report on bugs and issues found in the live environment;\n",
            " Code up bug fixes and system enhancements from user requirements;\n",
            " Provide, on occasion, additional development resource to the IT Development\n",
            "Team.\n",
            "2. Key responsibilities:\n",
            " Produce code fixes to reported bugs and defects and extend existing applications\n",
            "functionality based on user requirements;\n",
            " Manage a task list of on-going bug and enhancement work, pro-actively providing\n",
            "feedback;\n",
            " Work, communicate and integrate effectively with the other members of the\n",
            "development team and the wider IT Department;\n",
            " Demonstrate knowledge of C# (Framework 4.0), Object Orientated Programming,\n",
            "structured code design and WinForms based application development;\n",
            " Work with non-IT technical users to understand requirements, identifying problems\n",
            "and providing solutions in a timely manner. A desire to understand the business\n",
            "aims;\n",
            " Perform the various other duties associated with being an active member of an IT\n",
            "development team such as contributing in Team Meetings, taking part in peer\n",
            "reviews, providing regular progress reports etc.\n",
            "3. Job activities:\n",
            "The role is required to fulfil the need for a WinForms C# developer to work in support of\n",
            "LCP in-house developed applications, primarily making code fixes and adding system\n",
            "enhancements to LCP’s Pensions Administration System (PAS) and other systems as\n",
            "required Hub Website, Web Member Access site, PDF Transfer, word merge and\n",
            "3081752 output factory services.. Flexibility and the ability to context switch between different\n",
            "tasks and projects is an important requirement.\n",
            "Page 2 of 2\n",
            "The person in this role will work under the guidance of the IT Development Manager and\n",
            "the systems Product Owners and will work closely with our Quality Assurance team.\n",
            "The ability to work successfully in isolation and as part of a group is critical. A\n",
            "willingness to travel between LCP offices is required but experience of using technology\n",
            "to reduce the need for this is desirable.\n",
            "Good communication skills are required with the ability to discuss technical matters in a\n",
            "non-technical language to the business and understand and discuss basic architectural\n",
            "patterns with other developers. Experience of and involvement in peer reviews is\n",
            "desirable as is any previous commercial experience of enforcing and policing coding\n",
            "practices within a team environment.\n",
            "The primary technical requirements for this role are C# (DotNet 4.5), WinForms, WPF,\n",
            "good OOP knowledge and SOA experience are desirable. Exposure to Team\n",
            "Foundation Server (2013 and above), Pervasive SQL and experience in self-testing code\n",
            "(eg Unit Testing using Moq or Automock) would be a distinct advantage, as would any\n",
            "experience with Microsoft SQL 2005+, Microsoft Office 2003+, unmanaged code (eg\n",
            "VB6, Excel VBA, COM, COM+) and exposure to one or more software development\n",
            "lifecycles (eg Agile, Waterfall). Recent experience with Entity Framework, ASP.net\n",
            "MVC, HTML5, Web API, knockoutJs, jQuery, bootstrap, Umbraco, WCF would be useful\n",
            "as there are two major websites based on this technology to support.\n",
            "5 August 2015\n"
          ]
        }
      ]
    },
    {
      "cell_type": "code",
      "source": [
        "Script_Req=''.join(Script_Req)\n",
        "Req_Clear=Script_Req.replace(\"\\n\",\"\")\n",
        "Req_Clear"
      ],
      "metadata": {
        "colab": {
          "base_uri": "https://localhost:8080/",
          "height": 140
        },
        "id": "jCG1oDYMzPa6",
        "outputId": "438f9d50-5167-4dd7-95a9-fcd24c099c3e"
      },
      "execution_count": 28,
      "outputs": [
        {
          "output_type": "execute_result",
          "data": {
            "text/plain": [
              "'3081752 Job title: C# ProgrammerPage 1 of 2 Reports to: Lead Applications DeveloperHours agreed: 35 per weekLocation: LondonSalary: Up to £1. Job purpose:To undertake coding and systems maintenance tasks in support of LCP’s in-housedeveloped systems, specifically for the Pensions Administration department.\\uf0a7 Investigate and report on bugs and issues found in the live environment;\\uf0a7 Code up bug fixes and system enhancements from user requirements;\\uf0a7 Provide, on occasion, additional development resource to the IT DevelopmentTeam.2. Key responsibilities:\\uf0a7 Produce code fixes to reported bugs and defects and extend existing applicationsfunctionality based on user requirements;\\uf0a7 Manage a task list of on-going bug and enhancement work, pro-actively providingfeedback;\\uf0a7 Work, communicate and integrate effectively with the other members of thedevelopment team and the wider IT Department;\\uf0a7 Demonstrate knowledge of C# (Framework 4.0), Object Orientated Programming,structured code design and WinForms based application development;\\uf0a7 Work with non-IT technical users to understand requirements, identifying problemsand providing solutions in a timely manner. A desire to understand the businessaims;\\uf0a7 Perform the various other duties associated with being an active member of an ITdevelopment team such as contributing in Team Meetings, taking part in peerreviews, providing regular progress reports etc.3. Job activities:The role is required to fulfil the need for a WinForms C# developer to work in support ofLCP in-house developed applications, primarily making code fixes and adding systemenhancements to LCP’s Pensions Administration System (PAS) and other systems asrequired Hub Website, Web Member Access site, PDF Transfer, word merge and3081752 output factory services.. Flexibility and the ability to context switch between differenttasks and projects is an important requirement.Page 2 of 2The person in this role will work under the guidance of the IT Development Manager andthe systems Product Owners and will work closely with our Quality Assurance team.The ability to work successfully in isolation and as part of a group is critical. Awillingness to travel between LCP offices is required but experience of using technologyto reduce the need for this is desirable.Good communication skills are required with the ability to discuss technical matters in anon-technical language to the business and understand and discuss basic architecturalpatterns with other developers. Experience of and involvement in peer reviews isdesirable as is any previous commercial experience of enforcing and policing codingpractices within a team environment.The primary technical requirements for this role are C# (DotNet 4.5), WinForms, WPF,good OOP knowledge and SOA experience are desirable. Exposure to TeamFoundation Server (2013 and above), Pervasive SQL and experience in self-testing code(eg Unit Testing using Moq or Automock) would be a distinct advantage, as would anyexperience with Microsoft SQL 2005+, Microsoft Office 2003+, unmanaged code (egVB6, Excel VBA, COM, COM+) and exposure to one or more software developmentlifecycles (eg Agile, Waterfall). Recent experience with Entity Framework, ASP.netMVC, HTML5, Web API, knockoutJs, jQuery, bootstrap, Umbraco, WCF would be usefulas there are two major websites based on this technology to support.5 August 2015'"
            ],
            "application/vnd.google.colaboratory.intrinsic+json": {
              "type": "string"
            }
          },
          "metadata": {},
          "execution_count": 28
        }
      ]
    },
    {
      "cell_type": "code",
      "source": [
        "Match_Test=[CV_Clear,Req_Clear]"
      ],
      "metadata": {
        "id": "r9kwBXcazToO"
      },
      "execution_count": 29,
      "outputs": []
    },
    {
      "cell_type": "code",
      "source": [
        "from sklearn.feature_extraction.text import CountVectorizer\n",
        "cv=CountVectorizer()\n",
        "count_matrix=cv.fit_transform(Match_Test)"
      ],
      "metadata": {
        "id": "kQeO5ilHzbvR"
      },
      "execution_count": 30,
      "outputs": []
    },
    {
      "cell_type": "code",
      "source": [
        "from sklearn.metrics.pairwise import cosine_similarity\n",
        "print('Similarity is :',cosine_similarity(count_matrix))"
      ],
      "metadata": {
        "colab": {
          "base_uri": "https://localhost:8080/"
        },
        "id": "FN5MSbkAzeum",
        "outputId": "4da9ee52-7074-4546-a142-2682a817c840"
      },
      "execution_count": 31,
      "outputs": [
        {
          "output_type": "stream",
          "name": "stdout",
          "text": [
            "Similarity is : [[1.         0.45535705]\n",
            " [0.45535705 1.        ]]\n"
          ]
        }
      ]
    },
    {
      "cell_type": "code",
      "source": [
        "MatchPercentage=cosine_similarity(count_matrix)[0][1]*100\n",
        "MatchPercentage=round(MatchPercentage,2)\n",
        "print('Match Percentage is :'+ str(MatchPercentage)+'% to Requirement')"
      ],
      "metadata": {
        "colab": {
          "base_uri": "https://localhost:8080/"
        },
        "id": "lWomtpUYziuo",
        "outputId": "1ad28797-e857-42ec-96f7-ae1bf560d389"
      },
      "execution_count": 32,
      "outputs": [
        {
          "output_type": "stream",
          "name": "stdout",
          "text": [
            "Match Percentage is :45.54% to Requirement\n"
          ]
        }
      ]
    }
  ]
}