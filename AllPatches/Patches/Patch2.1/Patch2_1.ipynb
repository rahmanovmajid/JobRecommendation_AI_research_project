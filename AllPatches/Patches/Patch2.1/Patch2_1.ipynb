{
  "nbformat": 4,
  "nbformat_minor": 0,
  "metadata": {
    "colab": {
      "provenance": []
    },
    "kernelspec": {
      "name": "python3",
      "display_name": "Python 3"
    },
    "language_info": {
      "name": "python"
    }
  },
  "cells": [
    {
      "cell_type": "code",
      "execution_count": 8,
      "metadata": {
        "colab": {
          "base_uri": "https://localhost:8080/"
        },
        "id": "RuHmiIj4JTtt",
        "outputId": "ff85a472-d8bf-433f-d931-899b06d66b6d"
      },
      "outputs": [
        {
          "output_type": "stream",
          "name": "stdout",
          "text": [
            "Looking in indexes: https://pypi.org/simple, https://us-python.pkg.dev/colab-wheels/public/simple/\n",
            "Requirement already satisfied: PyPDF2 in /usr/local/lib/python3.9/dist-packages (3.0.1)\n",
            "Requirement already satisfied: typing_extensions>=3.10.0.0 in /usr/local/lib/python3.9/dist-packages (from PyPDF2) (4.5.0)\n",
            "0.3536811515267232\n",
            "Bad match.\n"
          ]
        }
      ],
      "source": [
        "import re\n",
        "!pip install PyPDF2\n",
        "import PyPDF2\n",
        "from sklearn.feature_extraction.text import CountVectorizer\n",
        "from sklearn.metrics.pairwise import cosine_similarity\n",
        "\n",
        "def extract_text_from_pdf(pdf_file):\n",
        "    \"\"\"\n",
        "    This function takes in the path to a PDF file and returns the text content of the file.\n",
        "    \"\"\"\n",
        "    with open(pdf_file, 'rb') as f:\n",
        "        pdf_reader = PyPDF2.PdfReader(f)\n",
        "        text = \"\"\n",
        "        for page in pdf_reader.pages:\n",
        "            text += page.extract_text()\n",
        "        return text\n",
        "\n",
        "def calculate_accuracy(resume_text, job_description_text):\n",
        "    \"\"\"\n",
        "    This function takes in the text of a resume and a job description,\n",
        "    and calculates the accuracy of the match between the two using cosine similarity.\n",
        "    \"\"\"\n",
        "    # Vectorize the text using count vectorizer\n",
        "    vectorizer = CountVectorizer().fit_transform([resume_text, job_description_text])\n",
        "    vectors = vectorizer.toarray()\n",
        "\n",
        "    # Calculate cosine similarity\n",
        "    cosine_sim = cosine_similarity(vectors)\n",
        "\n",
        "    # Extract cosine similarity value for resume and job description\n",
        "    resume_similarity = cosine_sim[0][1]\n",
        "\n",
        "    return resume_similarity\n",
        "\n",
        "# Sample resume PDF file\n",
        "resume_file = '/content/IbrahimAliyev.pdf'\n",
        "\n",
        "# Sample job description PDF file\n",
        "job_description_file = '/content/CSharpJobDesc.pdf'\n",
        "\n",
        "# Extract text from PDF files\n",
        "resume_text = extract_text_from_pdf(resume_file)\n",
        "job_description_text = extract_text_from_pdf(job_description_file)\n",
        "\n",
        "# Calculate the similarity\n",
        "similarity = calculate_accuracy(resume_text, job_description_text)\n",
        "print(similarity)\n",
        "# Print the result\n",
        "if similarity > 0.7:\n",
        "    print(\"Match found!\")\n",
        "else:\n",
        "    print(\"Bad match.\")\n"
      ]
    }
  ]
}